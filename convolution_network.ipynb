{
 "cells": [
  {
   "cell_type": "markdown",
   "metadata": {},
   "source": [
    "# Module 4 Final Project - Neural Networks\n",
    "## Masood Qaim\n",
    "## Data Science - Oct Cohort Full Time\n",
    "## Instructor: Rafael Carrasco"
   ]
  },
  {
   "cell_type": "markdown",
   "metadata": {},
   "source": [
    "For this project, I will attempt to build a model that can accuracy classify images. Here are the steps:\n",
    "    - load the dataset \n",
    "    - preprocess\n",
    "    - build the model\n",
    "    - train, test, and tune the model\n",
    "    - explain the model"
   ]
  },
  {
   "cell_type": "markdown",
   "metadata": {},
   "source": [
    "## Step 1: Load the dataset"
   ]
  },
  {
   "cell_type": "code",
   "execution_count": 1,
   "metadata": {},
   "outputs": [],
   "source": [
    "#import libraries \n",
    "import pandas as pd #data stuff\n",
    "import numpy as np #linear algebra\n",
    "import matplotlib.pyplot as plt #preview image\n",
    "import glob\n",
    "%matplotlib inline\n",
    "import os #iterate through directories \n",
    "import cv2 #image operation\n",
    "import random\n",
    "from sklearn.model_selection import train_test_split\n",
    "from sklearn.preprocessing import LabelBinarizer\n",
    "#from keras.preprocessing.image import img_to_array"
   ]
  },
  {
   "cell_type": "code",
   "execution_count": 2,
   "metadata": {},
   "outputs": [],
   "source": [
    "#loading the data set\n",
    "datadir = r'C:\\Users\\Masood\\Documents\\FlatIron\\module4\\project\\natural_images' #must put 'r' before string\n",
    "categories = ['airplane', 'car', 'cat', 'dog', 'flower', 'fruit', 'motorbike', 'person']\n",
    "\n",
    "\n",
    "def create_training_data(datadir, categories):\n",
    "    training_data = []\n",
    "    for category in categories:\n",
    "        path = os.path.join(datadir, category) #our path to the images\n",
    "        class_label = categories.index(category) #lables our data; car, cat, dog,...\n",
    "        for img in os.listdir(path):\n",
    "            img_array = cv2.imread(os.path.join(path, img), cv2.IMREAD_GRAYSCALE) #convert images to grayscale\n",
    "            new_array = cv2.resize(img_array, (40, 40)) #resizing to 40x40 pixels so i can run/tune the model quickly \n",
    "            training_data.append([new_array, class_label])#this is where i made a mistake. i was passing img_array instead of new_array. that is why my img shape was not 128,128\n",
    "    return training_data\n",
    "\n",
    "training_data = create_training_data(datadir=datadir, categories=categories)\n",
    "\n",
    "random.shuffle(training_data)"
   ]
  },
  {
   "cell_type": "code",
   "execution_count": 3,
   "metadata": {
    "scrolled": true
   },
   "outputs": [
    {
     "name": "stdout",
     "output_type": "stream",
     "text": [
      "The number of images in our dataset: 6899\n",
      "The type of data is: <class 'list'>\n",
      "How an image appears numerically:\n",
      "[array([[128, 125, 120, ..., 126, 116, 103],\n",
      "       [112,  72,  61, ..., 118, 117, 110],\n",
      "       [132,  59,  69, ..., 133, 121, 105],\n",
      "       ...,\n",
      "       [152, 151, 146, ...,  52,  58,  58],\n",
      "       [110, 104, 100, ..., 105,  98,  93],\n",
      "       [ 77,  83,  87, ..., 106, 103, 105]], dtype=uint8), 0]\n",
      "<class 'numpy.ndarray'>\n",
      "The shape of the data is: (6899, 2) the first column is the data, second is the label\n"
     ]
    }
   ],
   "source": [
    "#confirm all images have been saved\n",
    "print('The number of images in our dataset:', len(training_data))\n",
    "print('The type of data is:', type(training_data))\n",
    "print('How an image appears numerically:')\n",
    "print(training_data[1])\n",
    "\n",
    "#convert our dataset into an array\n",
    "training_data_array = np.asarray(training_data)\n",
    "print(type(training_data_array))\n",
    "\n",
    "print('The shape of the data is:', training_data_array.shape, 'the first column is the data, second is the label')"
   ]
  },
  {
   "cell_type": "code",
   "execution_count": 4,
   "metadata": {
    "scrolled": true
   },
   "outputs": [
    {
     "name": "stdout",
     "output_type": "stream",
     "text": [
      "4\n",
      "0\n",
      "7\n",
      "4\n",
      "5\n"
     ]
    }
   ],
   "source": [
    "#seeing if lables are working\n",
    "for lab_cat in training_data[:5]:\n",
    "    print(lab_cat[1]) #index 0 is our data, index 1 is the label "
   ]
  },
  {
   "cell_type": "markdown",
   "metadata": {},
   "source": [
    "## Step 2: Preprocessing the data"
   ]
  },
  {
   "cell_type": "markdown",
   "metadata": {},
   "source": [
    "Neural Networks will learn whatever data your run it though, so preprocessig is very important. If your data is not formatted or labeled correctly, it will learn incorrect features. The data should also be normalized so it does not crash the kernal.\n",
    "\n",
    "Few notes about the shape:\n",
    "\n",
    "    The input_shape of your first layer (in my case, the conv layer) has to be 3D:\n",
    "        input_shape = (img_height, img_width, channel). channel meaning the depth, 3 for RBB, 1 for gray\n",
    "        ex. input_shape = (128, 128, 1)\n",
    "        \n",
    "    X_train shape should match the following:\n",
    "        (batch_size, img_height, img_width, channel)\n",
    "        ex. (1000, 128, 128, 1)"
   ]
  },
  {
   "cell_type": "code",
   "execution_count": 5,
   "metadata": {},
   "outputs": [],
   "source": [
    "X = [] # feature set\n",
    "y = [] # lables\n",
    "\n",
    "for features, label in training_data:\n",
    "    X.append(features) #must be a numpy array\n",
    "    y.append(label) #can be a list, but array is better\n",
    "    \n",
    "X = np.array(X)\n",
    "X = X/255. #normalizing the data to read between 0-1\n",
    "\n",
    "y = np.array(y)\n",
    "mlb = LabelBinarizer() #a type of one hot encoding\n",
    "y = mlb.fit_transform(y)"
   ]
  },
  {
   "cell_type": "code",
   "execution_count": 9,
   "metadata": {},
   "outputs": [
    {
     "name": "stdout",
     "output_type": "stream",
     "text": [
      "[[0.21568627 0.26666667 0.38039216 ... 0.3254902  0.34509804 0.34117647]\n",
      " [0.18823529 0.17647059 0.39215686 ... 0.41176471 0.40392157 0.29411765]\n",
      " [0.19215686 0.54509804 0.61176471 ... 0.38039216 0.38823529 0.30196078]\n",
      " ...\n",
      " [0.21568627 0.23137255 0.15294118 ... 0.58431373 0.48235294 0.50196078]\n",
      " [0.28235294 0.29803922 0.21960784 ... 0.55294118 0.54117647 0.49019608]\n",
      " [0.35294118 0.32156863 0.28235294 ... 0.54117647 0.44313725 0.44313725]]\n",
      "The shape of the images is:  (40, 40)\n",
      "[0 1 0 0 0 0 0 0]\n"
     ]
    },
    {
     "data": {
      "image/png": "[encoded data removed]",
      "text/plain": [
       "<Figure size 432x288 with 1 Axes>"
      ]
     },
     "metadata": {
      "needs_background": "light"
     },
     "output_type": "display_data"
    }
   ],
   "source": [
    "X = X.reshape((-1, 40, 40))\n",
    "\n",
    "#confirm X is between 0-1, shape is 40,40, X[3] is motocycle, y[6] is [0 1 0 0 0 0 0 0]\n",
    "test_i = 6\n",
    "plt.imshow(X[test_i])\n",
    "print(X[test_i])\n",
    "print('The shape of the images is: ', X[test_i].shape)\n",
    "print(y[test_i])"
   ]
  },
  {
   "cell_type": "code",
   "execution_count": 10,
   "metadata": {},
   "outputs": [
    {
     "name": "stderr",
     "output_type": "stream",
     "text": [
      "C:\\Users\\Masood\\Anaconda3\\lib\\site-packages\\ipykernel_launcher.py:1: DeprecationWarning: Both axis > a.ndim and axis < -a.ndim - 1 are deprecated and will raise an AxisError in the future.\n",
      "  \"\"\"Entry point for launching an IPython kernel.\n"
     ]
    }
   ],
   "source": [
    "X = np.expand_dims(X, axis=4) #add an extra dimention so it can run through my model"
   ]
  },
  {
   "cell_type": "code",
   "execution_count": 11,
   "metadata": {},
   "outputs": [
    {
     "name": "stdout",
     "output_type": "stream",
     "text": [
      "(6209, 40, 40, 1)\n",
      "(690, 40, 40, 1)\n"
     ]
    }
   ],
   "source": [
    "#confirm correct shape before passing the data through the model\n",
    "X_train, X_test, y_train, y_test = train_test_split(X, y, test_size=0.1, random_state=42)\n",
    "\n",
    "print(X_train.shape)\n",
    "print(X_test.shape)"
   ]
  },
  {
   "cell_type": "markdown",
   "metadata": {},
   "source": [
    "## Step 3: Building the Model"
   ]
  },
  {
   "cell_type": "code",
   "execution_count": 9,
   "metadata": {},
   "outputs": [
    {
     "name": "stderr",
     "output_type": "stream",
     "text": [
      "Using TensorFlow backend.\n"
     ]
    }
   ],
   "source": [
    "import tensorflow as tf\n",
    "from keras.models import Sequential\n",
    "from keras.layers import Dense, Dropout, Activation, Flatten, Conv2D, MaxPooling2D"
   ]
  },
  {
   "cell_type": "code",
   "execution_count": 10,
   "metadata": {
    "scrolled": false
   },
   "outputs": [
    {
     "name": "stdout",
     "output_type": "stream",
     "text": [
      "_________________________________________________________________\n",
      "Layer (type)                 Output Shape              Param #   \n",
      "=================================================================\n",
      "conv2d_1 (Conv2D)            (None, 38, 38, 64)        640       \n",
      "_________________________________________________________________\n",
      "activation_1 (Activation)    (None, 38, 38, 64)        0         \n",
      "_________________________________________________________________\n",
      "max_pooling2d_1 (MaxPooling2 (None, 19, 19, 64)        0         \n",
      "_________________________________________________________________\n",
      "dropout_1 (Dropout)          (None, 19, 19, 64)        0         \n",
      "_________________________________________________________________\n",
      "flatten_1 (Flatten)          (None, 23104)             0         \n",
      "_________________________________________________________________\n",
      "dense_1 (Dense)              (None, 1024)              23659520  \n",
      "_________________________________________________________________\n",
      "activation_2 (Activation)    (None, 1024)              0         \n",
      "_________________________________________________________________\n",
      "dropout_2 (Dropout)          (None, 1024)              0         \n",
      "_________________________________________________________________\n",
      "dense_2 (Dense)              (None, 8)                 8200      \n",
      "_________________________________________________________________\n",
      "activation_3 (Activation)    (None, 8)                 0         \n",
      "=================================================================\n",
      "Total params: 23,668,360\n",
      "Trainable params: 23,668,360\n",
      "Non-trainable params: 0\n",
      "_________________________________________________________________\n"
     ]
    }
   ],
   "source": [
    "model = Sequential()\n",
    "\n",
    "model.add(Conv2D(64, (3,3), input_shape = (40, 40, 1)))\n",
    "model.add(Activation('relu'))\n",
    "\n",
    "model.add(MaxPooling2D(pool_size = (2,2)))\n",
    "model.add(Dropout(0.25))\n",
    "\n",
    "model.add(Flatten())\n",
    "model.add(Dense(1024))\n",
    "model.add(Activation('relu'))\n",
    "model.add(Dropout(0.5))\n",
    "\n",
    "model.add(Dense(8))\n",
    "model.add(Activation('softmax'))\n",
    "\n",
    "model.compile(loss='categorical_crossentropy',\n",
    "             optimizer='adam',\n",
    "             metrics=['accuracy'])\n",
    "\n",
    "model.summary()"
   ]
  },
  {
   "cell_type": "markdown",
   "metadata": {},
   "source": [
    "## Step 4: Train, Test, and Tune the Model"
   ]
  },
  {
   "cell_type": "markdown",
   "metadata": {},
   "source": [
    "## The is first attempt of the model"
   ]
  },
  {
   "cell_type": "code",
   "execution_count": 11,
   "metadata": {},
   "outputs": [
    {
     "name": "stdout",
     "output_type": "stream",
     "text": [
      "Train on 4346 samples, validate on 1863 samples\n",
      "Epoch 1/3\n",
      "4346/4346 [==============================] - 115s 26ms/step - loss: 0.9879 - acc: 0.6636 - val_loss: 0.5065 - val_acc: 0.8298\n",
      "Epoch 2/3\n",
      "4346/4346 [==============================] - 111s 26ms/step - loss: 0.4481 - acc: 0.8373 - val_loss: 0.4857 - val_acc: 0.8148\n",
      "Epoch 3/3\n",
      "4346/4346 [==============================] - 110s 25ms/step - loss: 0.3344 - acc: 0.8774 - val_loss: 0.4214 - val_acc: 0.8363\n"
     ]
    },
    {
     "data": {
      "text/plain": [
       "<keras.callbacks.History at 0x1d24ddbdfd0>"
      ]
     },
     "execution_count": 11,
     "metadata": {},
     "output_type": "execute_result"
    }
   ],
   "source": [
    "model.fit(X_train, y_train,\n",
    "          batch_size=32,\n",
    "          epochs=3,\n",
    "          validation_split=0.3) #note, i removed X_train, y_train and just passe X, y because of validation split"
   ]
  },
  {
   "cell_type": "markdown",
   "metadata": {},
   "source": [
    "- First attempt at my model yeiled a 86% accuracy and a loss of 0.37.\n",
    "- The accuracy loss is 85% and validation loss is 0.41.\n",
    "- you should expect your accuracy loss to be slightly lower and your validation loss to be slightly higher"
   ]
  },
  {
   "cell_type": "markdown",
   "metadata": {},
   "source": [
    "## Fine Tuning my Model"
   ]
  },
  {
   "cell_type": "markdown",
   "metadata": {},
   "source": [
    "- To improve my model, I will use TensorBoard to fine tune the paramaters\n",
    "- Each model will have a unique name "
   ]
  },
  {
   "cell_type": "code",
   "execution_count": 12,
   "metadata": {},
   "outputs": [],
   "source": [
    "from keras.callbacks import TensorBoard\n",
    "import time"
   ]
  },
  {
   "cell_type": "markdown",
   "metadata": {},
   "source": [
    "To fine tune my model, I need to run multiple networks with different parameters. First I'll create the model conditions, then run the data."
   ]
  },
  {
   "cell_type": "code",
   "execution_count": 13,
   "metadata": {},
   "outputs": [
    {
     "name": "stdout",
     "output_type": "stream",
     "text": [
      "1-conv-32-nodes-0-dense-1550001366\n",
      "2-conv-32-nodes-0-dense-1550001366\n",
      "3-conv-32-nodes-0-dense-1550001366\n",
      "1-conv-64-nodes-0-dense-1550001366\n",
      "2-conv-64-nodes-0-dense-1550001366\n",
      "3-conv-64-nodes-0-dense-1550001366\n",
      "1-conv-128-nodes-0-dense-1550001366\n",
      "2-conv-128-nodes-0-dense-1550001366\n",
      "3-conv-128-nodes-0-dense-1550001366\n",
      "1-conv-32-nodes-1-dense-1550001366\n",
      "2-conv-32-nodes-1-dense-1550001366\n",
      "3-conv-32-nodes-1-dense-1550001366\n",
      "1-conv-64-nodes-1-dense-1550001366\n",
      "2-conv-64-nodes-1-dense-1550001366\n",
      "3-conv-64-nodes-1-dense-1550001366\n",
      "1-conv-128-nodes-1-dense-1550001366\n",
      "2-conv-128-nodes-1-dense-1550001366\n",
      "3-conv-128-nodes-1-dense-1550001366\n",
      "1-conv-32-nodes-2-dense-1550001366\n",
      "2-conv-32-nodes-2-dense-1550001366\n",
      "3-conv-32-nodes-2-dense-1550001366\n",
      "1-conv-64-nodes-2-dense-1550001366\n",
      "2-conv-64-nodes-2-dense-1550001366\n",
      "3-conv-64-nodes-2-dense-1550001366\n",
      "1-conv-128-nodes-2-dense-1550001366\n",
      "2-conv-128-nodes-2-dense-1550001366\n",
      "3-conv-128-nodes-2-dense-1550001366\n",
      "1-conv-32-nodes-0-dense-1550001366\n",
      "2-conv-32-nodes-0-dense-1550001366\n",
      "3-conv-32-nodes-0-dense-1550001366\n",
      "1-conv-64-nodes-0-dense-1550001366\n",
      "2-conv-64-nodes-0-dense-1550001366\n",
      "3-conv-64-nodes-0-dense-1550001366\n",
      "1-conv-128-nodes-0-dense-1550001366\n",
      "2-conv-128-nodes-0-dense-1550001366\n",
      "3-conv-128-nodes-0-dense-1550001366\n",
      "1-conv-32-nodes-1-dense-1550001366\n",
      "2-conv-32-nodes-1-dense-1550001366\n",
      "3-conv-32-nodes-1-dense-1550001366\n",
      "1-conv-64-nodes-1-dense-1550001366\n",
      "2-conv-64-nodes-1-dense-1550001366\n",
      "3-conv-64-nodes-1-dense-1550001366\n",
      "1-conv-128-nodes-1-dense-1550001366\n",
      "2-conv-128-nodes-1-dense-1550001366\n",
      "3-conv-128-nodes-1-dense-1550001366\n",
      "1-conv-32-nodes-2-dense-1550001366\n",
      "2-conv-32-nodes-2-dense-1550001366\n",
      "3-conv-32-nodes-2-dense-1550001366\n",
      "1-conv-64-nodes-2-dense-1550001366\n",
      "2-conv-64-nodes-2-dense-1550001366\n",
      "3-conv-64-nodes-2-dense-1550001366\n",
      "1-conv-128-nodes-2-dense-1550001366\n",
      "2-conv-128-nodes-2-dense-1550001366\n",
      "3-conv-128-nodes-2-dense-1550001366\n",
      "1-conv-32-nodes-0-dense-1550001366\n",
      "2-conv-32-nodes-0-dense-1550001366\n",
      "3-conv-32-nodes-0-dense-1550001366\n",
      "1-conv-64-nodes-0-dense-1550001366\n",
      "2-conv-64-nodes-0-dense-1550001366\n",
      "3-conv-64-nodes-0-dense-1550001366\n",
      "1-conv-128-nodes-0-dense-1550001366\n",
      "2-conv-128-nodes-0-dense-1550001366\n",
      "3-conv-128-nodes-0-dense-1550001366\n",
      "1-conv-32-nodes-1-dense-1550001366\n",
      "2-conv-32-nodes-1-dense-1550001366\n",
      "3-conv-32-nodes-1-dense-1550001366\n",
      "1-conv-64-nodes-1-dense-1550001366\n",
      "2-conv-64-nodes-1-dense-1550001366\n",
      "3-conv-64-nodes-1-dense-1550001366\n",
      "1-conv-128-nodes-1-dense-1550001366\n",
      "2-conv-128-nodes-1-dense-1550001366\n",
      "3-conv-128-nodes-1-dense-1550001366\n",
      "1-conv-32-nodes-2-dense-1550001366\n",
      "2-conv-32-nodes-2-dense-1550001366\n",
      "3-conv-32-nodes-2-dense-1550001366\n",
      "1-conv-64-nodes-2-dense-1550001366\n",
      "2-conv-64-nodes-2-dense-1550001366\n",
      "3-conv-64-nodes-2-dense-1550001366\n",
      "1-conv-128-nodes-2-dense-1550001366\n",
      "2-conv-128-nodes-2-dense-1550001366\n",
      "3-conv-128-nodes-2-dense-1550001366\n"
     ]
    }
   ],
   "source": [
    "#for each model, try a number from each side\n",
    "dense_nums = [512, 1024, 2048]\n",
    "dense_layers = [0, 1, 2]\n",
    "layer_sizes = [32, 64, 128]\n",
    "conv_layers = [1, 2, 3]\n",
    "\n",
    "#for i in list(dense_layers[1:]):\n",
    "    #print(i)\n",
    "\n",
    "#test the for loop to make sure the correct models run\n",
    "for dense_num in dense_nums:\n",
    "    for dense_layer in dense_layers:\n",
    "        for layer_size in layer_sizes:\n",
    "            for conv_layer in conv_layers:\n",
    "                NAME1 = '{}-conv-{}-nodes-{}-dense-{}'.format(conv_layer, layer_size, dense_layer, int(time.time()))\n",
    "                print(NAME1)"
   ]
  },
  {
   "cell_type": "code",
   "execution_count": null,
   "metadata": {},
   "outputs": [],
   "source": [
    "# WARNING: THIS WILL TAKE OVER 5 HOURS TO RUN!!!!!!\n",
    "#create a for loop for the conv, size of layer, and dense layer\n",
    "for dense_num in dense_nums:\n",
    "    for dense_layer in dense_layers:\n",
    "        for layer_size in layer_sizes:\n",
    "            for conv_layer in conv_layers:\n",
    "                NAME = '{}-conv-{}-nodes-{}-dense-{}'.format(conv_layer, layer_size, dense_layer, int(time.time()))\n",
    "                tensorboard = TensorBoard(log_dir='log/{}'.format(NAME))\n",
    "                model = Sequential()\n",
    "\n",
    "                model.add(Conv2D(layer_size, (3,3), input_shape = (40, 40, 1)))\n",
    "                model.add(Activation('relu'))\n",
    "                model.add(MaxPooling2D(pool_size = (2,2)))\n",
    "\n",
    "                for l in list(conv_layers):\n",
    "                    model.add(Conv2D(layer_size, (3,3)))\n",
    "                    model.add(Activation('relu'))\n",
    "                    model.add(MaxPooling2D(pool_size = (2,2)))\n",
    "\n",
    "                model.add(Flatten())\n",
    "                for l in list(dense_layers[1:]):\n",
    "                    model.add(Dense(dense_num))\n",
    "                    model.add(Activation('relu'))\n",
    "\n",
    "                model.add(Dense(8))\n",
    "                model.add(Activation('softmax'))\n",
    "\n",
    "                model.compile(loss='categorical_crossentropy',\n",
    "                             optimizer='adam',\n",
    "                             metrics=['accuracy'])\n",
    "\n",
    "                model.fit(X_train, y_train,\n",
    "                          batch_size=32,\n",
    "                          epochs=2,\n",
    "                          validation_split=0.3,\n",
    "                          callbacks=[tensorboard])"
   ]
  },
  {
   "cell_type": "markdown",
   "metadata": {},
   "source": [
    "## Explain the Final Model"
   ]
  },
  {
   "cell_type": "markdown",
   "metadata": {},
   "source": [
    "After crashing the kernal several times (need a new computer with more gpu, ram, and a better cpu), the best model is 2-conv-128-nodes-2-dense-1549925617 model. From tensorboard's graphs, this model had the lowest validation loss while maintaining a high accuracy."
   ]
  },
  {
   "cell_type": "code",
   "execution_count": 51,
   "metadata": {},
   "outputs": [],
   "source": [
    "#keras library import for Saving and loading model and weights\n",
    "from keras.models import model_from_json\n",
    "from keras.models import load_model"
   ]
  },
  {
   "cell_type": "code",
   "execution_count": 15,
   "metadata": {},
   "outputs": [],
   "source": [
    "#serialize model to JSON\n",
    "#the keras model which is trained is defined as 'model' in this example\n",
    "model_json_1 = model.to_json()\n",
    "\n",
    "with open(\"model_num.json\", \"w\") as json_file:\n",
    "    json_file.write(model_json_1)\n",
    "\n",
    "#serialize weights to HDF5\n",
    "model.save_weights(\"model_num.h5\")"
   ]
  },
  {
   "cell_type": "markdown",
   "metadata": {},
   "source": [
    "## Prediction Test"
   ]
  },
  {
   "cell_type": "markdown",
   "metadata": {},
   "source": [
    "To test if my network model can actually predict images, I'll define a function to run against my model."
   ]
  },
  {
   "cell_type": "code",
   "execution_count": 14,
   "metadata": {},
   "outputs": [],
   "source": [
    "prediction = model.predict([X_test])"
   ]
  },
  {
   "cell_type": "code",
   "execution_count": 28,
   "metadata": {},
   "outputs": [
    {
     "name": "stdout",
     "output_type": "stream",
     "text": [
      "car\n"
     ]
    },
    {
     "data": {
      "image/png": "[encoded data removed]",
      "text/plain": [
       "<Figure size 432x288 with 1 Axes>"
      ]
     },
     "metadata": {
      "needs_background": "light"
     },
     "output_type": "display_data"
    }
   ],
   "source": [
    "#0: airplane\n",
    "#1: car\n",
    "#2: cat\n",
    "#3: dog\n",
    "#4: flower\n",
    "#5: fruit\n",
    "#6: motorbike\n",
    "#7: person\n",
    "\n",
    "def print_prediction(predictions=prediction, j = None):\n",
    "    if j is None:\n",
    "        return \"No image selected\"\n",
    "    classes = dict(zip(range(8), [\"airplane\", \"car\", \"cat\", \"dog\", \"flower\", \"fruit\", \"motorbike\", \"person\"]))\n",
    "    classes\n",
    "\n",
    "    img_lab = np.argmax(prediction[j])\n",
    "    print(classes[img_lab])\n",
    "\n",
    "    predic_img = X_test.squeeze()\n",
    "    plt.imshow(predic_img[j]);\n",
    "    return None\n",
    "\n",
    "print_prediction(j=500)"
   ]
  },
  {
   "cell_type": "code",
   "execution_count": 30,
   "metadata": {},
   "outputs": [
    {
     "name": "stdout",
     "output_type": "stream",
     "text": [
      "car\n"
     ]
    },
    {
     "data": {
      "image/png": "[encoded data removed]",
      "text/plain": [
       "<Figure size 432x288 with 1 Axes>"
      ]
     },
     "metadata": {
      "needs_background": "light"
     },
     "output_type": "display_data"
    }
   ],
   "source": [
    "print_prediction(j = 600)"
   ]
  },
  {
   "cell_type": "code",
   "execution_count": 31,
   "metadata": {},
   "outputs": [
    {
     "name": "stdout",
     "output_type": "stream",
     "text": [
      "dog\n"
     ]
    },
    {
     "data": {
      "image/png": "[encoded data removed]",
      "text/plain": [
       "<Figure size 432x288 with 1 Axes>"
      ]
     },
     "metadata": {
      "needs_background": "light"
     },
     "output_type": "display_data"
    }
   ],
   "source": [
    "print_prediction(j=250)"
   ]
  },
  {
   "cell_type": "markdown",
   "metadata": {},
   "source": [
    "Looks like my network model works."
   ]
  },
  {
   "cell_type": "code",
   "execution_count": 12,
   "metadata": {},
   "outputs": [
    {
     "name": "stderr",
     "output_type": "stream",
     "text": [
      "[NbConvertApp] Converting notebook convolution_network.ipynb to markdown\n",
      "[NbConvertApp] Support files will be in convolution_network_files\\\n",
      "[NbConvertApp] Making directory convolution_network_files\n",
      "[NbConvertApp] Making directory convolution_network_files\n",
      "[NbConvertApp] Making directory convolution_network_files\n",
      "[NbConvertApp] Making directory convolution_network_files\n",
      "[NbConvertApp] Writing 16718 bytes to convolution_network.md\n"
     ]
    }
   ],
   "source": [
    "!jupyter nbconvert --to markdown convolution_network.ipynb\n",
    "!mv convolution_network.md README.md"
   ]
  }
 ],
 "metadata": {
  "kernelspec": {
   "display_name": "Python 3",
   "language": "python",
   "name": "python3"
  },
  "language_info": {
   "codemirror_mode": {
    "name": "ipython",
    "version": 3
   },
   "file_extension": ".py",
   "mimetype": "text/x-python",
   "name": "python",
   "nbconvert_exporter": "python",
   "pygments_lexer": "ipython3",
   "version": "3.6.8"
  }
 },
 "nbformat": 4,
 "nbformat_minor": 2
}
